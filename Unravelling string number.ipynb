{
 "cells": [
  {
   "cell_type": "code",
   "execution_count": 1,
   "metadata": {
    "collapsed": true
   },
   "outputs": [],
   "source": [
    "from IPython.display import Latex"
   ]
  },
  {
   "cell_type": "markdown",
   "metadata": {},
   "source": [
    "_This notebook goes along with the C++ files in the github repository xababax.\n",
    "Together with the code, they present a solution to the Riddler puzzle:\n",
    "https://fivethirtyeight.com/features/can-you-unravel-these-number-strings/\n",
    "I used this riddle to teach myself some C++ as well as Gnuplot, your comments and suggestions are appreciated. My email address is in the cpp file._"
   ]
  },
  {
   "cell_type": "markdown",
   "metadata": {},
   "source": [
    "# The riddle: unravelling the number string\n",
    "\n",
    "The details of the riddle are available on the link to the riddle above. The definition of the string is the following:\n",
    "\n",
    "The string is an infinite string of 3's and 2's and is ordered in such a way that the i-th digit indicates the number of consecutive 3's that are placed immediately before the i-th '2'.\n",
    "\n",
    "The challenge here is to calculate the ratio of 3's to 2's in the sequence."
   ]
  },
  {
   "cell_type": "markdown",
   "metadata": {},
   "source": [
    "## A few definitions\n",
    "\n",
    "As a starting point, let's start with some notations:\n",
    "\n",
    "$(S_i)_{i>0}$ is the sequence $333233323332332...$\n",
    "\n",
    "$ R_2 $ is the ratio of 2's in the entire sequence.\n",
    "\n",
    "$ R_3 = 1-R_2 $ is therefore the ratio of 3's.\n",
    "\n",
    "\n",
    "Later on, we'll extend the definition of $(S_i)$ to sequences containing an arbitrary base number $n>2$ and a delimitor $m$.\n",
    "\n",
    "\n",
    "## A few observations\n",
    "\n",
    "\n",
    "There is only one sequence that satisfies the definition and it can be constructed starting from the first digit (which has to be 3) with the following procedure:"
   ]
  },
  {
   "cell_type": "code",
   "execution_count": 3,
   "metadata": {
    "collapsed": false
   },
   "outputs": [
    {
     "name": "stdout",
     "output_type": "stream",
     "text": [
      "333323332333233323323332333233323323332\n"
     ]
    }
   ],
   "source": [
    "seq_three = '3332'\n",
    "seq_two = '332'\n",
    "\n",
    "S = '3'\n",
    "i=0\n",
    "while i<10:\n",
    "    if S[i] == '3': S+=seq_three\n",
    "    else: S+=seq_two\n",
    "    i+=1\n",
    "print(S)"
   ]
  },
  {
   "cell_type": "markdown",
   "metadata": {},
   "source": [
    "Since $ (S_i) $ can only contain 3's and 2's, it can only be composed of substrings of the form $(3332)$ and $(332)$. As a result, we can immediately find the following bounds:\n",
    "\n",
    "$ \\frac{1}{4} < R_2 < \\frac{1}{3}  $\n",
    "\n"
   ]
  },
  {
   "cell_type": "markdown",
   "metadata": {},
   "source": [
    "Finally, one can see that the sequence cannot be periodic by the following argument,\n",
    "suppose $S_i$ is periodic:\n",
    "\n",
    "$S_i$ is periodic $\\implies \\exists! N > 0$ such that:\n",
    "- $\\forall k>0:$  $S_k = S_{k+N}$.\n",
    "- $N$ is the smallest integer with this property.\n",
    "\n",
    "$\\forall p>0$, $S_p, S_{p+1}, ... , S_{p+4N}$, by virtue of the building algorithm above $\\exists q>0$ s.t. a subset of $S_q, S_{q+1}, ... , S_{q+F}$  where ($F<N$) generated $S_p, S_{p+1}, ... , S_{p+4N}$.\n",
    "\n",
    "$S_k = S_{k+N} \\implies \\exists T<F<N$ such that within $S_q, S_{q+1}, ... , S_{q+F}$, we have $S_k = S_{k+T}$.\n",
    "\n",
    "Since p was arbitrary, this implies that T is another period for $(S_i)_{i>0}$. QED"
   ]
  },
  {
   "cell_type": "markdown",
   "metadata": {},
   "source": [
    "## An exact solution\n",
    "\n",
    "Using the building algorithm, one can also calculate exactly $R_2$.\n",
    "\n",
    "Each '3' generates three 3's and one 2 while each '2' generates two 3's and one 2.\n",
    "\n",
    "In matrix terms, the generator of the number of 3's and 2's generated after n iterations can be written as:\n",
    "$M = \\begin{pmatrix}\n",
    "3 & 1\\\\\n",
    "2 & 1\n",
    "\\end{pmatrix}$\n",
    "\n",
    "With this notation, we have:\n",
    "$M^n * \\begin{pmatrix}\n",
    "1 \\\\\n",
    "0\n",
    "\\end{pmatrix}$\n",
    "=\n",
    "$\\begin{pmatrix}\n",
    "3_n \\\\\n",
    "2_n\n",
    "\\end{pmatrix}$\n",
    "\n",
    "In the basis where $\\begin{pmatrix}\n",
    "1 \\\\\n",
    "0\n",
    "\\end{pmatrix}$ corresponds to the number of 3's and $\\begin{pmatrix}\n",
    "0 \\\\\n",
    "1\n",
    "\\end{pmatrix}$ corresponds to the number of 2's.\n",
    "\n",
    "The matrix can be diagnoalized and $2_n$ and $3_n$ expressed exactly. With this notation, we find:\n",
    "\n",
    "$R_2 = \\displaystyle\\lim_{n \\to \\inf} \\frac{2_n}{2_n + 3_n} = 2 - \\sqrt 3$\n",
    "\n",
    "And therefore in the terms of the riddler's challenge the ratio of 3's to 2's is:\n",
    "\n",
    "$ R_{3/2} = 1 + \\sqrt 3 $"
   ]
  },
  {
   "cell_type": "markdown",
   "metadata": {},
   "source": [
    "# A numerical approach in C++\n",
    "\n",
    "I used this opportunity to teach myself a little bit of C++ and gnuplot.\n",
    "\n",
    "num-string.cpp (found in the repository) computes the string for different base numbers n (equivalent to 3 in the riddler's challenge) and delimitors (equivalent to 2 in the riddler challenge).\n",
    "\n",
    "For the problem to be defined, it is necessary for both base and delimitor to non null, and to be different to each other. num-string.cpp takes that into account.\n",
    "\n",
    "After compiling, it produces as output the a space delimited file wich outputs are $n$ (base), $m$ (delimitor), $r$ (which in the previous section's notation is $ R_m $), and $c= R_{n/m}$.\n",
    "\n"
   ]
  },
  {
   "cell_type": "markdown",
   "metadata": {},
   "source": [
    "I used the output of the program to learn a bit about gnuplot. I was more interested in $R_m$ than R_{n/m}, so the plots below reflect this. They also include some interpolations."
   ]
  },
  {
   "cell_type": "markdown",
   "metadata": {},
   "source": [
    "![\"a\"](ratio_vs_base_digits.png)"
   ]
  },
  {
   "cell_type": "markdown",
   "metadata": {},
   "source": [
    "In this plot, for each base digit $n \\in [2:9]$, I plot $R_m$ for $m \\in [2:n]$ and included an interpolation of the average ratio by base digit $n$.\n",
    "The Gnuplot code is below (clearly there is a lot of room for improvement):\n",
    "\n",
    "set title \"Ratio of delimitor digits: base digit from 1 to 9, delimitor digit from 1 to base\"\n",
    "\n",
    "R(x) = 1/x - 1/(2x*x)\n",
    "\n",
    "set xlabel \"Base digit\"\n",
    "\n",
    "set ylabel \"Ratio\"\n",
    "\n",
    "set key title \"R(x) = 1/x - 1/(2*x*x)\"\n",
    "\n",
    "plot \"results.log\" using 1:3 title \"Constructed string\", [x=2:9] 1/x-1/(2*x*x) title \"Interpolated\""
   ]
  },
  {
   "cell_type": "markdown",
   "metadata": {},
   "source": [
    " ![\"b\"](Rm_vs_n_m.png)"
   ]
  },
  {
   "cell_type": "markdown",
   "metadata": {},
   "source": [
    "In this plot, for each base digit $n \\in [2:9]$, I plot $R_m$ for $m \\in [2:9]$, and $n \\neq m$ in a 3D plot using the code below in Gnuplot.\n",
    "\n",
    "set key font \"Arial, 12\"\n",
    "\n",
    "set key spacing 1.8\n",
    "\n",
    "set ylabel \"Delimitor digit\"\n",
    "\n",
    "set xlabel \"Base digit\"\n",
    "\n",
    "set zlabel \"Ratio\"\n",
    "\n",
    "set ylabel font \"Arial, 13\"\n",
    "\n",
    "set xlabel font \"Arial, 13\"\n",
    "\n",
    "set zlabel font \"Arial, 13\"\n",
    "\n",
    "set title \"Unravelling the number string\"\n",
    "\n",
    "set title font \"Arial, 14\"\n",
    "\n",
    "splot [x=1:20] [y=1:20] 1.0/(x+sqrt(y)) with dots, \"results.log\" using 1:2:3 title \"computed string\""
   ]
  }
 ],
 "metadata": {
  "kernelspec": {
   "display_name": "Python 3",
   "language": "python",
   "name": "python3"
  },
  "language_info": {
   "codemirror_mode": {
    "name": "ipython",
    "version": 3
   },
   "file_extension": ".py",
   "mimetype": "text/x-python",
   "name": "python",
   "nbconvert_exporter": "python",
   "pygments_lexer": "ipython3",
   "version": "3.6.0"
  }
 },
 "nbformat": 4,
 "nbformat_minor": 2
}
